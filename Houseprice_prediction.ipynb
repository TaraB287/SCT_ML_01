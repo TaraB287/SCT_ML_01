{
  "nbformat": 4,
  "nbformat_minor": 0,
  "metadata": {
    "colab": {
      "provenance": []
    },
    "kernelspec": {
      "name": "python3",
      "display_name": "Python 3"
    },
    "language_info": {
      "name": "python"
    }
  },
  "cells": [
    {
      "cell_type": "markdown",
      "source": [
        "Importing the  Libraries"
      ],
      "metadata": {
        "id": "Eh1HLzMWtdFa"
      }
    },
    {
      "cell_type": "code",
      "source": [
        "import pandas as pd\n",
        "import numpy as np\n",
        "from sklearn.model_selection import train_test_split\n",
        "from sklearn.linear_model import LinearRegression"
      ],
      "metadata": {
        "id": "_UVSSQ8Cz69_"
      },
      "execution_count": 1,
      "outputs": []
    },
    {
      "cell_type": "markdown",
      "source": [
        "Importing and preparing the Dataset"
      ],
      "metadata": {
        "id": "6JDkauwHtrqN"
      }
    },
    {
      "cell_type": "code",
      "source": [
        "# Load the training and testing data from your Colab environment\n",
        "try:\n",
        "    train_df = pd.read_csv('task1_train.csv')\n",
        "    test_df = pd.read_csv('Task1_test.csv')\n",
        "\n",
        "    # --- Feature Engineering (Applied to both datasets) ---\n",
        "    # Create a 'TotalBath' feature by combining all bathroom columns\n",
        "    train_df['TotalBath'] = train_df['FullBath'] + 0.5 * train_df['HalfBath'] + train_df['BsmtFullBath'] + 0.5 * train_df['BsmtHalfBath']\n",
        "    test_df['TotalBath'] = test_df['FullBath'] + 0.5 * test_df['HalfBath'] + test_df['BsmtFullBath'] + 0.5 * test_df['BsmtHalfBath']\n",
        "\n",
        "    # Define the features to be used\n",
        "    features = ['GrLivArea', 'TotalBath', 'BedroomAbvGr']\n",
        "\n",
        "    # --- Handle Missing Values ---\n",
        "    # Fill any missing values in the test set using the median from the training set\n",
        "    for col in features:\n",
        "        median_val = train_df[col].median()\n",
        "        train_df[col].fillna(median_val, inplace=True)\n",
        "        test_df[col].fillna(median_val, inplace=True)\n",
        "\n",
        "    print(\"Datasets loaded and prepared successfully!\")\n",
        "\n",
        "except FileNotFoundError:\n",
        "    print(\"ERROR: Please make sure 'task1_train.csv' and 'Task1_test.csv' are uploaded to your Colab environment.\")"
      ],
      "metadata": {
        "colab": {
          "base_uri": "https://localhost:8080/"
        },
        "id": "yQYx_Yc50B6q",
        "outputId": "dac66706-d8d3-4694-884f-97c71afcfd5f"
      },
      "execution_count": 2,
      "outputs": [
        {
          "output_type": "stream",
          "name": "stdout",
          "text": [
            "Datasets loaded and prepared successfully!\n"
          ]
        },
        {
          "output_type": "stream",
          "name": "stderr",
          "text": [
            "/tmp/ipython-input-2-223252062.py:18: FutureWarning: A value is trying to be set on a copy of a DataFrame or Series through chained assignment using an inplace method.\n",
            "The behavior will change in pandas 3.0. This inplace method will never work because the intermediate object on which we are setting values always behaves as a copy.\n",
            "\n",
            "For example, when doing 'df[col].method(value, inplace=True)', try using 'df.method({col: value}, inplace=True)' or df[col] = df[col].method(value) instead, to perform the operation inplace on the original object.\n",
            "\n",
            "\n",
            "  train_df[col].fillna(median_val, inplace=True)\n",
            "/tmp/ipython-input-2-223252062.py:19: FutureWarning: A value is trying to be set on a copy of a DataFrame or Series through chained assignment using an inplace method.\n",
            "The behavior will change in pandas 3.0. This inplace method will never work because the intermediate object on which we are setting values always behaves as a copy.\n",
            "\n",
            "For example, when doing 'df[col].method(value, inplace=True)', try using 'df.method({col: value}, inplace=True)' or df[col] = df[col].method(value) instead, to perform the operation inplace on the original object.\n",
            "\n",
            "\n",
            "  test_df[col].fillna(median_val, inplace=True)\n"
          ]
        }
      ]
    },
    {
      "cell_type": "markdown",
      "source": [
        "Splitting Dataset to Training and Validation"
      ],
      "metadata": {
        "id": "68AVVrLf0ju6"
      }
    },
    {
      "cell_type": "code",
      "source": [
        "# Define the features (X) and the target (y) from the main training dataframe\n",
        "X = train_df[features]\n",
        "y = train_df['SalePrice']\n",
        "\n",
        "# Split the data: 80% for training, 20% for validation\n",
        "X_train, X_val, y_train, y_val = train_test_split(X, y, test_size=0.2, random_state=42)\n",
        "\n",
        "print(\"Dataset successfully split into training and validation sets.\")\n",
        "print(f\"Training set shape: {X_train.shape}\")\n",
        "print(f\"Validation set shape: {X_val.shape}\")"
      ],
      "metadata": {
        "colab": {
          "base_uri": "https://localhost:8080/"
        },
        "id": "tlfuQg6d0ky1",
        "outputId": "a6cacf0c-58cf-47c0-c485-ef30d9b03c55"
      },
      "execution_count": 3,
      "outputs": [
        {
          "output_type": "stream",
          "name": "stdout",
          "text": [
            "Dataset successfully split into training and validation sets.\n",
            "Training set shape: (1168, 3)\n",
            "Validation set shape: (292, 3)\n"
          ]
        }
      ]
    },
    {
      "cell_type": "markdown",
      "source": [
        "Training the Linear Regression Model"
      ],
      "metadata": {
        "id": "Hlh3jkwDu_70"
      }
    },
    {
      "cell_type": "code",
      "source": [
        "# Initialize the Linear Regression model\n",
        "model = LinearRegression()\n",
        "\n",
        "# Train the model on the new, smaller training set\n",
        "model.fit(X_train, y_train)\n",
        "\n",
        "print(\"Linear Regression model trained successfully on the training set!\")"
      ],
      "metadata": {
        "colab": {
          "base_uri": "https://localhost:8080/"
        },
        "id": "SBcmK9Ec0q7k",
        "outputId": "221ab446-b033-4aa2-df6c-0ee829fec8de"
      },
      "execution_count": 4,
      "outputs": [
        {
          "output_type": "stream",
          "name": "stdout",
          "text": [
            "Linear Regression model trained successfully on the training set!\n"
          ]
        }
      ]
    },
    {
      "cell_type": "markdown",
      "source": [
        " Predicting the Test Set Results"
      ],
      "metadata": {
        "id": "5zu8IZ0kvmLj"
      }
    },
    {
      "cell_type": "code",
      "source": [
        "# Prepare the final test data with the same features\n",
        "X_test_final = test_df[features]\n",
        "\n",
        "# Predict the house prices for the final test set\n",
        "final_predictions = model.predict(X_test_final)\n",
        "\n",
        "# Create a new DataFrame for the submission\n",
        "prediction_df = pd.DataFrame({'Id': test_df['Id'], 'SalePrice': final_predictions})\n",
        "\n",
        "# Save the prediction file with the name 'prediction test.csv'\n",
        "prediction_df.to_csv('prediction test.csv', index=False)\n",
        "\n",
        "print(\"Predictions for the test set have been generated.\")\n",
        "print(\"The prediction file 'prediction test.csv' was created successfully!\")"
      ],
      "metadata": {
        "colab": {
          "base_uri": "https://localhost:8080/"
        },
        "id": "ngB9vltR0vn9",
        "outputId": "9a9a95dc-b143-45db-e485-5f693e8e1542"
      },
      "execution_count": 5,
      "outputs": [
        {
          "output_type": "stream",
          "name": "stdout",
          "text": [
            "Predictions for the test set have been generated.\n",
            "The prediction file 'prediction test.csv' was created successfully!\n"
          ]
        }
      ]
    }
  ]
}